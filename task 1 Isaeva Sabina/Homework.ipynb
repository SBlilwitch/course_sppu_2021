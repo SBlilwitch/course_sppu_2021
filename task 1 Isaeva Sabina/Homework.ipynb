{
 "cells": [
  {
   "cell_type": "code",
   "execution_count": 1,
   "metadata": {},
   "outputs": [],
   "source": [
    "import numpy as np\n",
    "import scipy.constants as const\n",
    "import pandas as pd\n",
    "from scipy.integrate import quad\n",
    "import matplotlib.pyplot as plt\n",
    "g=const.g\n",
    "import scipy\n",
    "import json\n"
   ]
  },
  {
   "cell_type": "code",
   "execution_count": 2,
   "metadata": {},
   "outputs": [],
   "source": [
    "#плотность воды при разных температурах,кг/м3\n",
    "#T_К,Тстан=277(К)\n",
    "def rho(T):\n",
    "    rho=1000/(1+((T-273)/10000*(0.269*(T-273)**0.637-0.8)))\n",
    "    return rho"
   ]
  },
  {
   "cell_type": "code",
   "execution_count": 3,
   "metadata": {},
   "outputs": [
    {
     "data": {
      "text/html": [
       "<div>\n",
       "<style scoped>\n",
       "    .dataframe tbody tr th:only-of-type {\n",
       "        vertical-align: middle;\n",
       "    }\n",
       "\n",
       "    .dataframe tbody tr th {\n",
       "        vertical-align: top;\n",
       "    }\n",
       "\n",
       "    .dataframe thead th {\n",
       "        text-align: right;\n",
       "    }\n",
       "</style>\n",
       "<table border=\"1\" class=\"dataframe\">\n",
       "  <thead>\n",
       "    <tr style=\"text-align: right;\">\n",
       "      <th></th>\n",
       "      <th>MD</th>\n",
       "      <th>TVD</th>\n",
       "    </tr>\n",
       "  </thead>\n",
       "  <tbody>\n",
       "    <tr>\n",
       "      <th>0</th>\n",
       "      <td>0.0</td>\n",
       "      <td>0.0</td>\n",
       "    </tr>\n",
       "    <tr>\n",
       "      <th>1</th>\n",
       "      <td>384.5</td>\n",
       "      <td>310.5</td>\n",
       "    </tr>\n",
       "    <tr>\n",
       "      <th>2</th>\n",
       "      <td>769.0</td>\n",
       "      <td>325.0</td>\n",
       "    </tr>\n",
       "  </tbody>\n",
       "</table>\n",
       "</div>"
      ],
      "text/plain": [
       "      MD    TVD\n",
       "0    0.0    0.0\n",
       "1  384.5  310.5\n",
       "2  769.0  325.0"
      ]
     },
     "execution_count": 3,
     "metadata": {},
     "output_type": "execute_result"
    }
   ],
   "source": [
    "#cosa-учет инклинометрии скважины\n",
    "df = pd.DataFrame(columns=['MD', 'TVD'], data=[[0, 0], [384.50,310.5], [ 769, 325]])\n",
    "df"
   ]
  },
  {
   "cell_type": "code",
   "execution_count": 4,
   "metadata": {},
   "outputs": [],
   "source": [
    "MD=df['MD']\n",
    "TVD=df['TVD']\n",
    "cos_a=np.zeros(len(MD))\n",
    "for i in range (1,len(MD)):\n",
    "    cos_a[i]=(TVD[i]-TVD[i-1])/(MD[i]-MD[i-1])"
   ]
  },
  {
   "cell_type": "code",
   "execution_count": 5,
   "metadata": {},
   "outputs": [],
   "source": [
    "def Cos_angle(x):\n",
    "    if x <= MD[1]:\n",
    "        cos=cos_a[1]\n",
    "    else: \n",
    "        cos=cos_a[2]\n",
    "    return cos    \n",
    "# print(Cos_angle(334.5)"
   ]
  },
  {
   "cell_type": "code",
   "execution_count": 6,
   "metadata": {},
   "outputs": [],
   "source": [
    "#число Рейнольдса\n",
    "def Re(rho,mu,d,v):\n",
    "    #rho - kg/m3\n",
    "    #mu - Pa*s\n",
    "    #d - m\n",
    "    #v-m/s\n",
    "    return (rho*v*d)/(mu)"
   ]
  },
  {
   "cell_type": "code",
   "execution_count": 7,
   "metadata": {},
   "outputs": [],
   "source": [
    "def mu(P,T):\n",
    "    #T-K\n",
    "    #P-MPa\n",
    "    A= 109.574\n",
    "    B= 1.1217\n",
    "    m= A *((1.8*T - 460)**(-B))*( 0.9994 + 0.0058*P/10**6 + 0.6534 * 10**(-4)*(P/10**6)**2)\n",
    "    return m/10**6"
   ]
  },
  {
   "cell_type": "code",
   "execution_count": 8,
   "metadata": {},
   "outputs": [],
   "source": [
    "#определение коэфициента трения согласно режиму течения\n",
    "#e-m\n",
    "def friction(Re):\n",
    "    if Re<3000:\n",
    "        f=64/Re\n",
    "    else:\n",
    "        f=1/(1.14-2*np.log10(e/d+21.25/Re**0.9))**2\n",
    "    return f   "
   ]
  },
  {
   "cell_type": "code",
   "execution_count": 9,
   "metadata": {},
   "outputs": [],
   "source": [
    "#функция определения температуры\n",
    "def tempreture(x):\n",
    "    if x<=MD[1]:\n",
    "        y=Cos_angle(x)*x\n",
    "    else:\n",
    "        y=Cos_angle(x)*(x - MD[1])+TVD[1]\n",
    "    return T_0 + y*(T_wf-T_0)/TVD[2]\n"
   ]
  },
  {
   "cell_type": "code",
   "execution_count": 10,
   "metadata": {},
   "outputs": [],
   "source": [
    "#функция определения производной давления по координате \n",
    "def dp_dx(x):\n",
    "    T=tempreture(x)  \n",
    "    P=p[-1]\n",
    "    mu_x=mu(P,T)\n",
    "    rho_x=rho(T)\n",
    "    Re_x=Re(rho_x,mu_x,d,v)\n",
    "#     print(Re_x)\n",
    "    dp_dx=rho_x*g*Cos_angle(x)-((friction(Re_x)*rho_x*v**2)/(d*2))\n",
    "#     print(\"dp_dx=\",dp_dx)\n",
    "    return dp_dx"
   ]
  },
  {
   "cell_type": "code",
   "execution_count": 11,
   "metadata": {},
   "outputs": [],
   "source": [
    "#Расчет распределения давления в скважине \n",
    "e=8*10**(-5)\n",
    "d=148*10**(-3)\n",
    "Q=888/86400\n",
    "v=4*Q/(const.pi*d**2)\n",
    "P_wh=22.9 * 101325 # P=22.9 atm\n",
    "T_0=299.2 #T=26.2 C\n",
    "T_wf=299.2+50\n",
    "H=769\n",
    "l=np.linspace(0,H,100)\n",
    "p=[]\n",
    "p.append(P_wh)\n",
    "for i in range(len(l)-1):\n",
    "    p.append(p[-1]+ quad(dp_dx,l[i],l[i+1])[0])\n",
    "#     print(p)    \n",
    "p_atm = [i/101325 for i in p]"
   ]
  },
  {
   "cell_type": "code",
   "execution_count": 12,
   "metadata": {},
   "outputs": [
    {
     "data": {
      "image/png": "[encoded data removed]",
      "text/plain": [
       "<Figure size 432x288 with 1 Axes>"
      ]
     },
     "metadata": {
      "needs_background": "light"
     },
     "output_type": "display_data"
    }
   ],
   "source": [
    "plt.plot(p_atm,l)\n",
    "plt.title('Распределение давления по трубе')\n",
    "ax=plt.gca()\n",
    "ax.invert_yaxis()\n",
    "plt.grid()\n",
    "plt.xlabel('P, atm')\n",
    "plt.ylabel('Well_length, m')\n",
    "plt.show()"
   ]
  },
  {
   "cell_type": "code",
   "execution_count": 13,
   "metadata": {},
   "outputs": [
    {
     "data": {
      "image/png": "[encoded data removed]",
      "text/plain": [
       "<Figure size 432x288 with 1 Axes>"
      ]
     },
     "metadata": {
      "needs_background": "light"
     },
     "output_type": "display_data"
    }
   ],
   "source": [
    "#График зависимости забойного давления от дебита\n",
    "Q=np.linspace(10/86400,500/86400,491)\n",
    "e=8*10**(-5)\n",
    "d=148*10**(-3)\n",
    "P_wh=22.9 * 101325 # P=22.9 atm\n",
    "T_0=299.2 #T=26.2 C\n",
    "T_wf=299.2+50\n",
    "H=769\n",
    "l=np.linspace(0,H,100)\n",
    "p_res=[]\n",
    "for q in Q:\n",
    "    v=4*q/(const.pi*d**2)\n",
    "    p=[]\n",
    "    p.append(P_wh)\n",
    "    for i in range(len(l)-1):\n",
    "        p.append(p[-1]+ quad(dp_dx,l[i],l[i+1])[0])\n",
    "    #     print(p)    \n",
    "    p_res.append(p[-1])\n",
    "Q_days=[i*86400 for i in Q]\n",
    "p_at = [i/101325 for i in p_res]\n",
    "plt.plot(Q_days,p_at)\n",
    "plt.title('График зависимости забойного давления от дебита')\n",
    "plt.ylabel('P, atm')\n",
    "plt.xlabel('Qliq, m3/day')\n",
    "plt.grid()\n",
    "plt.show()\n"
   ]
  },
  {
   "cell_type": "code",
   "execution_count": 14,
   "metadata": {},
   "outputs": [
    {
     "name": "stdout",
     "output_type": "stream",
     "text": [
      "41\n"
     ]
    },
    {
     "data": {
      "image/png": "[encoded data removed]",
      "text/plain": [
       "<Figure size 432x288 with 1 Axes>"
      ]
     },
     "metadata": {
      "needs_background": "light"
     },
     "output_type": "display_data"
    }
   ],
   "source": [
    "#Зависимость забойного давления от температуры \n",
    "Q=888/86400\n",
    "e=8*10**(-5)\n",
    "v=4*q/(const.pi*d**2)\n",
    "d=148*10**(-3)\n",
    "P_wh=22.9 * 101325 # P=22.9 atm\n",
    "T_1=np.linspace(10+273,50+273,41)\n",
    "T_2=np.linspace(60+273,100+273,41)\n",
    "H=769\n",
    "l=np.linspace(0,H,100)\n",
    "p_res=[]\n",
    "for dt in range (len(T_1)): \n",
    "    T_0=T_1[dt]\n",
    "    T_wf=T_2[dt]\n",
    "    p=[]\n",
    "    p.append(P_wh)\n",
    "    for i in range(len(l)-1):\n",
    "        p.append(p[-1]+ quad(dp_dx,l[i],l[i+1])[0])\n",
    "    #     print(p)   \n",
    "    p_res.append(p[-1]/101325)   \n",
    "T_C = [i-273 for i in T_1]\n",
    "print(len(p_res))\n",
    "plt.plot(T_C,p_res)\n",
    "plt.title('График зависимости забойного давления от температуры')\n",
    "plt.ylabel('P, atm')\n",
    "plt.xlabel('T0, C')\n",
    "plt.grid()\n",
    "plt.show()\n",
    "\n"
   ]
  },
  {
   "cell_type": "code",
   "execution_count": null,
   "metadata": {},
   "outputs": [],
   "source": []
  },
  {
   "cell_type": "code",
   "execution_count": null,
   "metadata": {},
   "outputs": [],
   "source": []
  }
 ],
 "metadata": {
  "kernelspec": {
   "display_name": "Python 3",
   "language": "python",
   "name": "python3"
  },
  "language_info": {
   "codemirror_mode": {
    "name": "ipython",
    "version": 3
   },
   "file_extension": ".py",
   "mimetype": "text/x-python",
   "name": "python",
   "nbconvert_exporter": "python",
   "pygments_lexer": "ipython3",
   "version": "3.8.5"
  }
 },
 "nbformat": 4,
 "nbformat_minor": 4
}
